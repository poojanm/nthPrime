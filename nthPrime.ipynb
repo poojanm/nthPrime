{
  "nbformat": 4,
  "nbformat_minor": 0,
  "metadata": {
    "colab": {
      "name": "nthPrime.ipynb",
      "provenance": []
    },
    "kernelspec": {
      "name": "python3",
      "display_name": "Python 3"
    }
  },
  "cells": [
    {
      "cell_type": "code",
      "metadata": {
        "id": "hXjBZarRTdIq",
        "colab_type": "code",
        "colab": {
          "base_uri": "https://localhost:8080/",
          "height": 74
        },
        "outputId": "81f0c747-5d1e-4f52-9d31-f3af5a097392"
      },
      "source": [
        "def nthPrime(n):\n",
        "  if n == 1:\n",
        "    return 2\n",
        "  count = 1\n",
        "  num = 1\n",
        "  while(count < n):\n",
        "    num += 2\n",
        "    if(isPrime(num)):\n",
        "      count += 1\n",
        "  return num \n",
        "\n",
        "def isPrime(n):\n",
        "  factor = 0\n",
        "  for x in range(2, int(n**1/2) + 1):\n",
        "    if n % x == 0:\n",
        "      break\n",
        "  if factor == 1:\n",
        "    return False\n",
        "  else:\n",
        "    return True\n",
        "\n",
        "\n",
        "nthPrime(3)"
      ],
      "execution_count": 10,
      "outputs": [
        {
          "output_type": "execute_result",
          "data": {
            "text/plain": [
              "5"
            ]
          },
          "metadata": {
            "tags": []
          },
          "execution_count": 10
        }
      ]
    }
  ]
}